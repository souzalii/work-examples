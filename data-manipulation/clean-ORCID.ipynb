{
 "cells": [
  {
   "cell_type": "code",
   "execution_count": 17,
   "id": "c0fe978e-6857-40cf-ac66-916e62605506",
   "metadata": {},
   "outputs": [],
   "source": [
    "#Author: Aline Andrade (@souzalii)\n",
    "\n",
    "# This script reads an Excel file containing researcher information, cleans and standardizes the data by removing unwanted keywords,\n",
    "# and consolidates organization names. It also merges rows based on 'Name' and 'Organisation' while combining relevant fields."
   ]
  },
  {
   "cell_type": "code",
   "execution_count": 1,
   "id": "135189c2-08be-493e-bc0f-b99211d2f3df",
   "metadata": {},
   "outputs": [],
   "source": [
    "import pandas as pd\n",
    "import re\n",
    "import numpy as np"
   ]
  },
  {
   "cell_type": "code",
   "execution_count": 2,
   "id": "e6f25381-cb58-449a-abde-0148e3d0319a",
   "metadata": {},
   "outputs": [],
   "source": [
    "#read file\n",
    "df = pd.read_excel('path/to/your/dummy_data.xlsx')"
   ]
  },
  {
   "cell_type": "code",
   "execution_count": 3,
   "id": "3f3eb112-82d5-4b49-8b4e-ca4aa447e279",
   "metadata": {},
   "outputs": [],
   "source": [
    "# Remove leading and trailing spaces in the columns\n",
    "# Note: change the columns name as per your file\n",
    "df['Name'] = df['Name'].str.strip()\n",
    "df['Organisation'] = df['Organisation'].str.strip()\n",
    "df['Listed as'] = df['Listed as'].str.strip()"
   ]
  },
  {
   "cell_type": "code",
   "execution_count": 4,
   "id": "a93459bb-9b39-44c4-876a-9a5c1c3d3e51",
   "metadata": {},
   "outputs": [],
   "source": [
    "# Function to remove parentheses and the content within them\n",
    "def remove_parentheses(text):\n",
    "    if isinstance(text, str):  \n",
    "        return re.sub(r'\\s*\\(.*?\\)\\s*', '', text)\n",
    "    return text  \n",
    "\n",
    "# Convert all values to string to avoid errors\n",
    "df['Name'] = df['Name'].astype(str).apply(remove_parentheses)"
   ]
  },
  {
   "cell_type": "code",
   "execution_count": 5,
   "id": "de492694-e46e-405d-8748-acffd6d13853",
   "metadata": {},
   "outputs": [],
   "source": [
    "# Keywords to be removed\n",
    "# Note: insert the words for which you want to remove the entire row if it contains any of these keywords\n",
    "keywords = ['TBA', 'TBC', 'TBD', 'staff']\n",
    "\n",
    "# Function to check if the text contains any of the keywords\n",
    "def contains_keywords(text):\n",
    "    if isinstance(text, str):\n",
    "        pattern = '|'.join(keywords)\n",
    "        return not re.search(pattern, text, re.IGNORECASE)\n",
    "    return False\n",
    "\n",
    "# Filter the DataFrame to remove rows containing the keywords\n",
    "df = df[df['Name'].apply(contains_keywords)]"
   ]
  },
  {
   "cell_type": "code",
   "execution_count": 6,
   "id": "924bed0f-e52d-4b5f-abd8-4febc03b5454",
   "metadata": {},
   "outputs": [],
   "source": [
    "# Exact values to be removed\n",
    "# Note: this will remove the rows that exactly match the words\n",
    "values_to_remove = [\n",
    "    'Postdoctoral fellow',\n",
    "    'Up to 5 sub-project leads',\n",
    "]\n",
    "\n",
    "# Filter the DataFrame to remove rows with the exact values\n",
    "df = df[~df['Name'].isin(values_to_remove)]"
   ]
  },
  {
   "cell_type": "code",
   "execution_count": 7,
   "id": "ad41030e-6949-4951-b383-0dbd08c039b2",
   "metadata": {},
   "outputs": [],
   "source": [
    "# Dictionary of substitutions to standardize organization names\n",
    "organization_mapping = {\n",
    "    \"UN\": \"University of Newcastle\",\n",
    "    \"University of Queensland\": \"The University of Queensland\",\n",
    "    \"UNE\": \"University of New England\",\n",
    "}\n",
    "\n",
    "# Function to standardize organization names\n",
    "def standardize_organization(name):\n",
    "    return organization_mapping.get(name, name)\n",
    "\n",
    "# Apply the standardization to the organization columns\n",
    "df['Organisation'] = df['Organisation'].apply(standardize_organization)"
   ]
  },
  {
   "cell_type": "code",
   "execution_count": 10,
   "id": "11aeb784-2ae5-484f-ae1e-2965c65a05b4",
   "metadata": {},
   "outputs": [],
   "source": [
    "# Define a function to merge rows \n",
    "def merge_rows(group):\n",
    "    listed_as = ' '.join(group['Listed as'].dropna().unique())\n",
    "    orcid = ' '.join(group['ORCID'].dropna().unique())\n",
    "    url = ' '.join(group['URL'].dropna().unique())\n",
    "    return pd.Series([listed_as, orcid, url])\n",
    "\n",
    "# Apply the merging function\n",
    "merged_df = df.groupby(['Name', 'Organisation'], as_index=False).apply(merge_rows, include_groups=False)"
   ]
  },
  {
   "cell_type": "code",
   "execution_count": 12,
   "id": "f352059c-5ade-4ef1-9f0f-18fc9c3b74d5",
   "metadata": {},
   "outputs": [],
   "source": [
    "# Rename the columns back\n",
    "merged_df.columns = ['Name', 'Organisation', 'Listed as', 'ORCID', 'URL']"
   ]
  },
  {
   "cell_type": "code",
   "execution_count": 14,
   "id": "06d68546-c608-4db6-afce-d558edc18e3e",
   "metadata": {},
   "outputs": [],
   "source": [
    "# Function to handle non-string values and remove duplicates\n",
    "def combine_series(series):\n",
    "    return '; '.join(sorted(set(str(x) for x in series if pd.notna(x))))\n",
    "\n",
    "# Group by 'Name' and combine 'Organisation' and 'Listed as' with ';' as a separator\n",
    "merged_df = df.groupby('Name').agg({\n",
    "    'Organisation': combine_series,\n",
    "    'Listed as': combine_series,\n",
    "    'ORCID': 'first',  \n",
    "    'URL': 'first'     \n",
    "}).reset_index()"
   ]
  },
  {
   "cell_type": "code",
   "execution_count": 16,
   "id": "6f168db4-8183-4a0b-89a6-072fc1ff6489",
   "metadata": {},
   "outputs": [],
   "source": [
    "# Save the result to a new Excel file\n",
    "merged_df.to_excel('resultado_mesclado.xlsx', index=False)"
   ]
  },
  {
   "cell_type": "code",
   "execution_count": null,
   "id": "6954b1d1-120e-41b9-8c20-d1b2a5a3b20f",
   "metadata": {},
   "outputs": [],
   "source": []
  }
 ],
 "metadata": {
  "kernelspec": {
   "display_name": "Python 3 (ipykernel)",
   "language": "python",
   "name": "python3"
  },
  "language_info": {
   "codemirror_mode": {
    "name": "ipython",
    "version": 3
   },
   "file_extension": ".py",
   "mimetype": "text/x-python",
   "name": "python",
   "nbconvert_exporter": "python",
   "pygments_lexer": "ipython3",
   "version": "3.12.4"
  }
 },
 "nbformat": 4,
 "nbformat_minor": 5
}
